{
  "nbformat": 4,
  "nbformat_minor": 0,
  "metadata": {
    "colab": {
      "provenance": [],
      "collapsed_sections": [],
      "authorship_tag": "ABX9TyOC6dsUipEK4TKIjJaAOk/b",
      "include_colab_link": true
    },
    "kernelspec": {
      "name": "python3",
      "display_name": "Python 3"
    },
    "language_info": {
      "name": "python"
    }
  },
  "cells": [
    {
      "cell_type": "markdown",
      "metadata": {
        "id": "view-in-github",
        "colab_type": "text"
      },
      "source": [
        "<a href=\"https://colab.research.google.com/github/pallavijog13/solution/blob/master/2021/Final/1%20Road%20Construction/GeekGodess2021_Road_construction.ipynb\" target=\"_parent\"><img src=\"https://colab.research.google.com/assets/colab-badge.svg\" alt=\"Open In Colab\"/></a>"
      ]
    },
    {
      "cell_type": "markdown",
      "source": [
        "#  1 Road Construction"
      ],
      "metadata": {
        "id": "2bHgAChhcXzI"
      }
    },
    {
      "cell_type": "code",
      "source": [
        "N, M = str.split(input())\n",
        "N, M"
      ],
      "metadata": {
        "colab": {
          "base_uri": "https://localhost:8080/"
        },
        "id": "ZPqJNlD1ZCT_",
        "outputId": "3234c47d-699f-41a0-99ed-cc3298c3e3cb"
      },
      "execution_count": 149,
      "outputs": [
        {
          "name": "stdout",
          "output_type": "stream",
          "text": [
            "10 3\n"
          ]
        },
        {
          "output_type": "execute_result",
          "data": {
            "text/plain": [
              "('10', '3')"
            ]
          },
          "metadata": {},
          "execution_count": 149
        }
      ]
    },
    {
      "cell_type": "markdown",
      "source": [
        "# Inputs"
      ],
      "metadata": {
        "id": "9Qi8wi7CZ5ri"
      }
    },
    {
      "cell_type": "code",
      "execution_count": 150,
      "metadata": {
        "id": "oi1t4xI2q9C9"
      },
      "outputs": [],
      "source": [
        "N = int(N)\n",
        "M = int(M)\n",
        "\n",
        "road_source = [1,2,3,4,7,8,5,6,9,10]\n",
        "road_destination = [2,3,4,7,8,2,7,5,6,8]"
      ]
    },
    {
      "cell_type": "markdown",
      "source": [
        "# Build graph from inputs"
      ],
      "metadata": {
        "id": "jQU8ab8ZZ863"
      }
    },
    {
      "cell_type": "code",
      "source": [
        "def build_graph():\n",
        "    graph = {}\n",
        "    for idx in range(1,N+1):\n",
        "        if idx == 1:\n",
        "            graph[idx] = []\n",
        "            continue\n",
        "        elif idx not in road_destination:\n",
        "            graph[idx] = [0]\n",
        "\n",
        "        temp_destination_index_list = [i for i,x in enumerate(road_destination) if x == idx]\n",
        "        values = []\n",
        "        for temp_destination_index in temp_destination_index_list:\n",
        "            values.append(road_source[temp_destination_index])\n",
        "        graph[idx] = values\n",
        "    # print (graph)\n",
        "    return graph\n",
        "\n",
        "graph = build_graph()\n",
        "graph"
      ],
      "metadata": {
        "colab": {
          "base_uri": "https://localhost:8080/"
        },
        "id": "0Db2hU221v8h",
        "outputId": "c1136c9d-8897-487a-bc9e-3c9d5e1c5208"
      },
      "execution_count": 151,
      "outputs": [
        {
          "output_type": "execute_result",
          "data": {
            "text/plain": [
              "{1: [],\n",
              " 2: [1, 8],\n",
              " 3: [2],\n",
              " 4: [3],\n",
              " 5: [6],\n",
              " 6: [9],\n",
              " 7: [4, 5],\n",
              " 8: [7, 10],\n",
              " 9: [],\n",
              " 10: []}"
            ]
          },
          "metadata": {},
          "execution_count": 151
        }
      ]
    },
    {
      "cell_type": "markdown",
      "source": [
        "# Return all paths from hospital1 to the required hospital (end)"
      ],
      "metadata": {
        "id": "hkhaeGz0aG8v"
      }
    },
    {
      "cell_type": "code",
      "source": [
        "def find_all_paths(graph, start, end, path=[]):\n",
        "    path = path + [start]\n",
        "    if start == end:\n",
        "        return [path]\n",
        "    if start not in graph.keys():\n",
        "        return []\n",
        "    paths = []\n",
        "    for node in graph[start]:\n",
        "        if node not in path:\n",
        "            newpaths = find_all_paths(graph, node, end, path)\n",
        "            for newpath in newpaths:\n",
        "                paths.append(newpath)\n",
        "    return paths"
      ],
      "metadata": {
        "id": "XFPooN763l_8"
      },
      "execution_count": 152,
      "outputs": []
    },
    {
      "cell_type": "markdown",
      "source": [
        "# Minimum path towards a specific hospital (idx)"
      ],
      "metadata": {
        "id": "iTYaUL52aWVY"
      }
    },
    {
      "cell_type": "code",
      "source": [
        "def minimum_len_path(idx, graph):\n",
        "    paths = find_all_paths(graph, idx, 1)\n",
        "    min_len = 0\n",
        "    for path in paths:\n",
        "        if min_len==0 or min_len > len(path):\n",
        "            min_len = len(path)-1\n",
        "\n",
        "    return min_len"
      ],
      "metadata": {
        "id": "a2QVoZ6TGZjV"
      },
      "execution_count": 153,
      "outputs": []
    },
    {
      "cell_type": "markdown",
      "source": [
        "# Minimum path towards all hospitals in the network"
      ],
      "metadata": {
        "id": "psbGD0qxadLI"
      }
    },
    {
      "cell_type": "code",
      "source": [
        "def minimum_len_paths():\n",
        "    min_path = {}\n",
        "    graph = build_graph()\n",
        "    # print ('graph:', graph)\n",
        "    for idx in range(1,N+1):\n",
        "        min_len = minimum_len_path(idx, graph)\n",
        "        min_path[idx] = min_len\n",
        "        # print (idx, min_len)\n",
        "    return min_path\n",
        "\n",
        "minimum_len_paths()"
      ],
      "metadata": {
        "colab": {
          "base_uri": "https://localhost:8080/"
        },
        "id": "fGiM5LZc4e4x",
        "outputId": "503a10a8-3d0c-4e0c-d272-e52d813e2a0e"
      },
      "execution_count": 154,
      "outputs": [
        {
          "output_type": "execute_result",
          "data": {
            "text/plain": [
              "{1: 0, 2: 1, 3: 2, 4: 3, 5: 0, 6: 0, 7: 4, 8: 5, 9: 0, 10: 0}"
            ]
          },
          "metadata": {},
          "execution_count": 154
        }
      ]
    },
    {
      "cell_type": "code",
      "source": [
        "# road_source = [1,2,3,4,7,8,5,6,9,10]\n",
        "# road_destination = [2,3,4,7,8,2,7,5,6,8]\n",
        "\n",
        "def get_disconnected_hospitals_list():\n",
        "    disconnected_hospitals = list(set(road_source)-set(road_destination)) # list of hospitals with no path towards them\n",
        "    disconnected_hospitals.extend([k for k,v in list(minimum_len_paths().items()) if v>M])\n",
        "    disconnected_hospitals.remove(1)\n",
        "    return disconnected_hospitals\n",
        "\n",
        "source = 1 # hospital1\n",
        "for key in graph.keys():\n",
        "\n",
        "    # consider source of new road only in case its < M path distance from hospital1\n",
        "    if minimum_len_path(key, graph) < M:\n",
        "        # get current disconnected list\n",
        "        disconnected_hospitals = get_disconnected_hospitals_list()\n",
        "        print ('disconnected_hospitals:', disconnected_hospitals)\n",
        "        for k in disconnected_hospitals:\n",
        "            print ('Current key:', k)\n",
        "            # recalculate the list in every iteration,\n",
        "            # as with just 1 additional road in the network, may connect other hospitals from the list\n",
        "            disconnected_hospitals = get_disconnected_hospitals_list()\n",
        "            print('Recalculate disconnected_hospitals:', disconnected_hospitals)\n",
        "            # only if hospital is disconnected or not = hospital1.\n",
        "            if k != 1 and (k in get_disconnected_hospitals_list()):\n",
        "                destination = k\n",
        "                # addition of new road (source,destination)\n",
        "                road_source.append(source)\n",
        "                road_destination.append(destination)\n",
        "                print (road_source, road_destination)\n",
        "                # calculate minimum paths again for all the hospitals\n",
        "                min_path = minimum_len_paths().values()\n",
        "                print(list(min_path))\n",
        "\n",
        "    if len(get_disconnected_hospitals_list()) == 0: # all the hospitals are taken care of.\n",
        "        break"
      ],
      "metadata": {
        "colab": {
          "base_uri": "https://localhost:8080/"
        },
        "id": "JzFBwng85IhF",
        "outputId": "b47608e2-0e1e-4186-e1a1-750368c6521a"
      },
      "execution_count": 155,
      "outputs": [
        {
          "output_type": "stream",
          "name": "stdout",
          "text": [
            "disconnected_hospitals: [10, 9, 7, 8]\n",
            "Current key: 10\n",
            "Recalculate disconnected_hospitals: [10, 9, 7, 8]\n",
            "[1, 2, 3, 4, 7, 8, 5, 6, 9, 10, 1] [2, 3, 4, 7, 8, 2, 7, 5, 6, 8, 10]\n",
            "[0, 1, 2, 3, 0, 0, 4, 2, 0, 1]\n",
            "Current key: 9\n",
            "Recalculate disconnected_hospitals: [9, 7]\n",
            "[1, 2, 3, 4, 7, 8, 5, 6, 9, 10, 1, 1] [2, 3, 4, 7, 8, 2, 7, 5, 6, 8, 10, 9]\n",
            "[0, 1, 2, 3, 3, 2, 4, 2, 1, 1]\n",
            "Current key: 7\n",
            "Recalculate disconnected_hospitals: [7]\n",
            "[1, 2, 3, 4, 7, 8, 5, 6, 9, 10, 1, 1, 1] [2, 3, 4, 7, 8, 2, 7, 5, 6, 8, 10, 9, 7]\n",
            "[0, 1, 2, 3, 3, 2, 1, 2, 1, 1]\n",
            "Current key: 8\n",
            "Recalculate disconnected_hospitals: []\n"
          ]
        }
      ]
    },
    {
      "cell_type": "code",
      "source": [
        "# Difference between original (N) and newly added roads\n",
        "print ('Minimum number of roads to be constructed:', len(road_source)-N)"
      ],
      "metadata": {
        "colab": {
          "base_uri": "https://localhost:8080/"
        },
        "id": "lhew_yQVW1Sk",
        "outputId": "cae61a5b-41fe-4689-ae4e-f4e9765c4fc7"
      },
      "execution_count": 156,
      "outputs": [
        {
          "output_type": "stream",
          "name": "stdout",
          "text": [
            "Minimum number of roads to be constructed: 3\n"
          ]
        }
      ]
    },
    {
      "cell_type": "code",
      "source": [],
      "metadata": {
        "id": "BH0PKovYZs9T"
      },
      "execution_count": null,
      "outputs": []
    }
  ]
}