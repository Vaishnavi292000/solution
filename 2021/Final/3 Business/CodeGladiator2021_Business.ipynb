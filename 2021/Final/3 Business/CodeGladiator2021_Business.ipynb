{
  "nbformat": 4,
  "nbformat_minor": 0,
  "metadata": {
    "colab": {
      "provenance": [],
      "authorship_tag": "ABX9TyN2qc7QShYuqSPCevjvWKQo",
      "include_colab_link": true
    },
    "kernelspec": {
      "name": "python3",
      "display_name": "Python 3"
    },
    "language_info": {
      "name": "python"
    }
  },
  "cells": [
    {
      "cell_type": "markdown",
      "metadata": {
        "id": "view-in-github",
        "colab_type": "text"
      },
      "source": [
        "<a href=\"https://colab.research.google.com/github/pallavijog13/solution/blob/master/2021/Final/3%20Business/CodeGladiator2021_Business.ipynb\" target=\"_parent\"><img src=\"https://colab.research.google.com/assets/colab-badge.svg\" alt=\"Open In Colab\"/></a>"
      ]
    },
    {
      "cell_type": "markdown",
      "source": [
        "# Inputs"
      ],
      "metadata": {
        "id": "pjgSYhUqqQt6"
      }
    },
    {
      "cell_type": "markdown",
      "source": [
        "### Get number of Manufacturing Orders(MO) and total number of machines need to acquire"
      ],
      "metadata": {
        "id": "JjKVzRsInPR5"
      }
    },
    {
      "cell_type": "code",
      "execution_count": 1,
      "metadata": {
        "colab": {
          "base_uri": "https://localhost:8080/"
        },
        "id": "wDDfnrsxqEfp",
        "outputId": "3c7f6c04-b56f-4c00-c895-4e702e49d2fa"
      },
      "outputs": [
        {
          "name": "stdout",
          "output_type": "stream",
          "text": [
            "Enter number of MO and total machines required:2 4\n"
          ]
        },
        {
          "output_type": "execute_result",
          "data": {
            "text/plain": [
              "(2, 4)"
            ]
          },
          "metadata": {},
          "execution_count": 1
        }
      ],
      "source": [
        "MO, MM = str.split(input ('Enter number of MO and total machines required:'))\n",
        "\n",
        "MO = int(MO)\n",
        "MM = int(MM)\n",
        "\n",
        "MO, MM"
      ]
    },
    {
      "cell_type": "markdown",
      "source": [
        "### Get price quoted for Manufacturing Order (MO_Prices) and number of machines required for that Manufacturing Order (MO_machines)"
      ],
      "metadata": {
        "id": "W05SYAXzniaR"
      }
    },
    {
      "cell_type": "code",
      "source": [
        "MO_prices = {}\n",
        "MO_machines = {}\n",
        "\n",
        "for i in range(1, MO+1):\n",
        "    price, machines = str.split(input (f'Enter price for MO{i} and machines required for MO{i}:'))\n",
        "    price = int(price)\n",
        "    machines = int(machines)\n",
        "\n",
        "    MO_prices[i] = price\n",
        "    MO_machines[i] = machines\n",
        "\n",
        "MO_prices, MO_machines"
      ],
      "metadata": {
        "colab": {
          "base_uri": "https://localhost:8080/"
        },
        "id": "UR6HLnO6qvHS",
        "outputId": "d38e6e72-a2b4-46af-f621-bf94fde74ec2"
      },
      "execution_count": 55,
      "outputs": [
        {
          "name": "stdout",
          "output_type": "stream",
          "text": [
            "Enter price for MO1 and machines required for MO1:2000 2\n",
            "Enter price for MO2 and machines required for MO2:2000 3\n"
          ]
        },
        {
          "output_type": "execute_result",
          "data": {
            "text/plain": [
              "({1: 2000, 2: 2000}, {1: 2, 2: 3})"
            ]
          },
          "metadata": {},
          "execution_count": 55
        }
      ]
    },
    {
      "cell_type": "markdown",
      "source": [
        "### Get data (machine number and its rent) per MO and build 2D table: \n",
        "rows --> # of MOs\n",
        "\n",
        "columns --> # of machines\n",
        "\n",
        "![business.png](data:image/png;base64,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)\n"
      ],
      "metadata": {
        "id": "4NvhGYOkn5pB"
      }
    },
    {
      "cell_type": "code",
      "source": [
        "M_table = [ [0]*MM for i in range(MO)]\n",
        "for mo_number,machines in MO_machines.items():\n",
        "    print ('MO', mo_number)\n",
        "    for m in range(machines):\n",
        "        number, rent = str.split(input ('Enter machine number and rent:'))\n",
        "        M_table[mo_number-1][int(number)-1] = int(rent)\n",
        "\n",
        "M_table"
      ],
      "metadata": {
        "colab": {
          "base_uri": "https://localhost:8080/"
        },
        "id": "8C5_w8RxrtjX",
        "outputId": "ae4e8316-da06-427d-f2f4-6481aa7c1ba4"
      },
      "execution_count": 79,
      "outputs": [
        {
          "name": "stdout",
          "output_type": "stream",
          "text": [
            "MO 1\n",
            "Enter machine number and rent:1 100\n",
            "Enter machine number and rent:3 400\n",
            "MO 2\n",
            "Enter machine number and rent:1 400\n",
            "Enter machine number and rent:2 600\n",
            "Enter machine number and rent:4 1500\n"
          ]
        },
        {
          "output_type": "execute_result",
          "data": {
            "text/plain": [
              "[[100, 0, 400, 0], [400, 600, 0, 1500]]"
            ]
          },
          "metadata": {},
          "execution_count": 79
        }
      ]
    },
    {
      "cell_type": "markdown",
      "source": [
        "### Get the cost price (M_CP) per machine."
      ],
      "metadata": {
        "id": "Il-AHPwXrGIy"
      }
    },
    {
      "cell_type": "code",
      "source": [
        "M_CP = []\n",
        "for k in range(MM):\n",
        "    cp = input (f'Enter machine CP for machine{k+1}:')\n",
        "    M_CP.append(int(cp))\n",
        "\n",
        "M_CP"
      ],
      "metadata": {
        "colab": {
          "base_uri": "https://localhost:8080/"
        },
        "id": "np6OMEnYurO5",
        "outputId": "4f49a323-245e-4a59-8932-350deaf06af7"
      },
      "execution_count": 72,
      "outputs": [
        {
          "name": "stdout",
          "output_type": "stream",
          "text": [
            "Enter machine CP for machine0:500\n",
            "Enter machine CP for machine1:800\n",
            "Enter machine CP for machine2:1100\n",
            "Enter machine CP for machine3:1500\n"
          ]
        },
        {
          "output_type": "execute_result",
          "data": {
            "text/plain": [
              "[500, 800, 1100, 1500]"
            ]
          },
          "metadata": {},
          "execution_count": 72
        }
      ]
    },
    {
      "cell_type": "markdown",
      "source": [
        "### Profit array (profits) to be filled in with profits using all combinations"
      ],
      "metadata": {
        "id": "kocfGQ30rRXY"
      }
    },
    {
      "cell_type": "code",
      "source": [
        "#@title No need of this list to calculate best profits. BestPriceCalculation() always makes sure that its profitable\n",
        "profits = []"
      ],
      "metadata": {
        "cellView": "form",
        "id": "FAKYJxVQrPRU"
      },
      "execution_count": 89,
      "outputs": []
    },
    {
      "cell_type": "code",
      "source": [
        "#@title This calculation is not required.\n",
        "# Include all MOs to calculate profits\n",
        "\n",
        "total_profit = 0\n",
        "\n",
        "for i in range(MO):\n",
        "    mo_profit = MO_prices[i+1] - sum(M_table[i-1])\n",
        "    if mo_profit > 0: # Do not include the amount which is less than zero (non-profit)\n",
        "        total_profit += mo_profit\n",
        "\n",
        "profits.append(total_profit)\n",
        "\n",
        "total_profit"
      ],
      "metadata": {
        "colab": {
          "base_uri": "https://localhost:8080/"
        },
        "id": "fK67Szfm0OI1",
        "outputId": "6e3f2bc5-85a5-45bd-c96c-159e0e689551",
        "cellView": "form"
      },
      "execution_count": 88,
      "outputs": [
        {
          "output_type": "execute_result",
          "data": {
            "text/plain": [
              "1500"
            ]
          },
          "metadata": {},
          "execution_count": 88
        }
      ]
    },
    {
      "cell_type": "code",
      "source": [
        "# build best_price dictionary based on its price in CP vs total rent to be paid for every MO\n",
        "def BestPriceCalculation():\n",
        "    best_combination = {}\n",
        "    updated_M_table = M_table[:]\n",
        "\n",
        "    for i in range(MM):\n",
        "        total = 0\n",
        "        for j in range(MO):\n",
        "            total += M_table[j][i]\n",
        "        \n",
        "        if total > M_CP[i]:\n",
        "            best_combination[i+1] = M_CP[i]\n",
        "    return best_combination\n",
        "\n",
        "best_price = BestPriceCalculation()\n",
        "best_price"
      ],
      "metadata": {
        "colab": {
          "base_uri": "https://localhost:8080/"
        },
        "id": "t5bv04OuLzDY",
        "outputId": "be366cb8-dba6-4de9-aaa4-0e4edbe2c151"
      },
      "execution_count": 82,
      "outputs": [
        {
          "output_type": "execute_result",
          "data": {
            "text/plain": [
              "{}"
            ]
          },
          "metadata": {},
          "execution_count": 82
        }
      ]
    },
    {
      "cell_type": "markdown",
      "source": [
        "### Calculate profit based on best_price considering combination from CP and individual rent amounts"
      ],
      "metadata": {
        "id": "aWhQ_5pzr70Y"
      }
    },
    {
      "cell_type": "code",
      "source": [
        "total_profit = 0\n",
        "\n",
        "\n",
        "for i in range(MO): # for every MO\n",
        "    total_cost = 0\n",
        "    for j in range(MM): # for every machine in specific MO\n",
        "        print (M_table[i][j], (j+1), (j+1) in best_price.keys())\n",
        "        if (M_table[i][j] != 0) and ((j+1) in best_price.keys()):\n",
        "            continue\n",
        "        else:\n",
        "            total_cost += M_table[i][j]\n",
        "            print ('total_cost:', total_cost)\n",
        "\n",
        "    if (MO_prices[i+1] - total_cost) > 0: # do not consider this MO if its in loss, in spite of taking best combinations.\n",
        "        total_profit += MO_prices[i+1] - total_cost\n",
        "\n",
        "    print ('total_profit:', total_profit)\n",
        "    # print (mo_profit)\n",
        "if best_price:\n",
        "    for k in best_price.keys(): # browse through machine ids in best_price dictionary\n",
        "        total_profit = total_profit - best_price[k]\n",
        "\n",
        "#profits.append(total_profit)\n",
        "\n",
        "total_profit"
      ],
      "metadata": {
        "colab": {
          "base_uri": "https://localhost:8080/"
        },
        "id": "Wv_XbcNCJ6TP",
        "outputId": "fe3e61c3-67b3-422e-d640-58fe459843e2"
      },
      "execution_count": 90,
      "outputs": [
        {
          "output_type": "stream",
          "name": "stdout",
          "text": [
            "100 1 False\n",
            "total_cost: 100\n",
            "0 2 False\n",
            "total_cost: 100\n",
            "400 3 False\n",
            "total_cost: 500\n",
            "0 4 False\n",
            "total_cost: 500\n",
            "total_profit: 1500\n",
            "400 1 False\n",
            "total_cost: 400\n",
            "600 2 False\n",
            "total_cost: 1000\n",
            "0 3 False\n",
            "total_cost: 1000\n",
            "1500 4 False\n",
            "total_cost: 2500\n",
            "total_profit: 1500\n"
          ]
        },
        {
          "output_type": "execute_result",
          "data": {
            "text/plain": [
              "1500"
            ]
          },
          "metadata": {},
          "execution_count": 90
        }
      ]
    },
    {
      "cell_type": "code",
      "source": [
        "print ('Maximum profit that can be achieved:', total_profit)"
      ],
      "metadata": {
        "id": "LtOEr8XndjUC",
        "colab": {
          "base_uri": "https://localhost:8080/"
        },
        "outputId": "1957fec0-baa3-4a96-d78f-14e482c4edbe"
      },
      "execution_count": 91,
      "outputs": [
        {
          "output_type": "stream",
          "name": "stdout",
          "text": [
            "Maximum profit that can be achieved: 1500\n"
          ]
        }
      ]
    },
    {
      "cell_type": "code",
      "source": [],
      "metadata": {
        "id": "8LoD64mktKnZ"
      },
      "execution_count": null,
      "outputs": []
    }
  ]
}